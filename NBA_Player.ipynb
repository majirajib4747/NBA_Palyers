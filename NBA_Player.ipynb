{
 "cells": [
  {
   "cell_type": "code",
   "execution_count": 1,
   "id": "1b324e21",
   "metadata": {},
   "outputs": [],
   "source": [
    "# Import Splinter and BeautifulSoup\n",
    "from splinter import Browser\n",
    "from bs4 import BeautifulSoup\n",
    "import pandas as pd"
   ]
  },
  {
   "cell_type": "code",
   "execution_count": 2,
   "id": "6f6b2659",
   "metadata": {},
   "outputs": [],
   "source": [
    "# Set up Splinter\n",
    "browser = Browser('chrome')"
   ]
  },
  {
   "cell_type": "code",
   "execution_count": 3,
   "id": "4bf040ed",
   "metadata": {},
   "outputs": [],
   "source": [
    "player_dict = {\"name\" : [],\n",
    "               \"url\"  : [],\n",
    "               \"dob\"  : [],\n",
    "               \"collage\" : [],\n",
    "               \"from_year\" : [],\n",
    "               \"to_year\" : [],\n",
    "               \"pos\" : [],\n",
    "               \"height\" : [],\n",
    "               \"weight\" : []\n",
    "    \n",
    "               }\n",
    "name_list = []\n",
    "url_list = []\n",
    "dob_list = []\n",
    "collage_list= []\n",
    "from_year = []\n",
    "to_year = []\n",
    "pos = []\n",
    "height = []\n",
    "weight = []\n",
    "\n",
    "alpha = ['a','b','c','d','e','f' ,'g','h', 'i','j','k','l','m','n','o','p','q','r','s','t','u','v','w','x','y','z']\n",
    "\n",
    "for i in range(len(alpha)):\n",
    "    print(f\"processing for NBA Player starting with {alpha[i]}\")\n",
    "    url = 'https://www.basketball-reference.com/players/' + alpha[i] +  '/'\n",
    "    browser.visit(url)\n",
    "    html = browser.html\n",
    "    soup = BeautifulSoup(html, 'html.parser')\n",
    "    div_all_player = soup.find('div',id=\"all_players\")\n",
    "    table_body = div_all_player.find('tbody')\n",
    "    div_table_row = table_body.find_all('tr')\n",
    "\n",
    "    for each_row in div_table_row : \n",
    "        div_all_player_a = each_row.find_all('a')\n",
    "    \n",
    "        if (len(div_all_player_a) >= 3) :\n",
    "            name_list.append(div_all_player_a[0].text)\n",
    "            full_url = \"https://www.basketball-reference.com\" + div_all_player_a[0][\"href\"]\n",
    "            url_list.append(full_url)\n",
    "            dob_list.append(div_all_player_a[1].text)\n",
    "            collage_list.append(div_all_player_a[2].text)\n",
    "    \n",
    "            div_all_player_td = each_row.find_all('td')\n",
    "            if (len(div_all_player_td) >= 5) :\n",
    "                from_year.append(div_all_player_td[0].text)\n",
    "                to_year.append(div_all_player_td[1].text)\n",
    "                pos.append(div_all_player_td[2].text)\n",
    "                height.append(div_all_player_td[3].text)\n",
    "                weight.append(div_all_player_td[4].text)\n",
    "        \n",
    "        \n",
    "             \n",
    "             \n",
    "player_dict[\"name\"] =   name_list  \n",
    "player_dict[\"url\"] =   url_list \n",
    "player_dict[\"dob\"] =   dob_list \n",
    "player_dict[\"collage\"] =   collage_list\n",
    "player_dict[\"from_year\"] =   from_year\n",
    "player_dict[\"to_year\"] =   to_year\n",
    "player_dict[\"pos\"] =   pos\n",
    "player_dict[\"height\"] =   height\n",
    "player_dict[\"weight\"] =   weight\n",
    "            "
   ]
  },
  {
   "cell_type": "code",
   "execution_count": 4,
   "id": "243ed466",
   "metadata": {},
   "outputs": [],
   "source": [
    "basket_ball_player_df = pd.DataFrame(player_dict  )\n",
    "basket_ball_player_df.head(10)"
   ]
  },
  {
   "cell_type": "code",
   "execution_count": 37,
   "id": "56b532cc",
   "metadata": {},
   "outputs": [],
   "source": [
    "url = 'https://www.basketball-reference.com/players/a/abdelal01.html'\n",
    "browser.visit(url)\n",
    "html = browser.html\n",
    "soup = BeautifulSoup(html, 'html.parser')\n",
    "div_player = soup.find('div',id=\"info\")\n",
    "div_player_p = div_player.find_all('p')\n",
    "print(div_player_p[9].text)\n",
    "print(div_player_p[10].text)"
   ]
  },
  {
   "cell_type": "code",
   "execution_count": null,
   "id": "733f14ed",
   "metadata": {},
   "outputs": [],
   "source": []
  }
 ],
 "metadata": {
  "kernelspec": {
   "display_name": "Python 3 (ipykernel)",
   "language": "python",
   "name": "python3"
  },
  "language_info": {
   "codemirror_mode": {
    "name": "ipython",
    "version": 3
   },
   "file_extension": ".py",
   "mimetype": "text/x-python",
   "name": "python",
   "nbconvert_exporter": "python",
   "pygments_lexer": "ipython3",
   "version": "3.10.12"
  }
 },
 "nbformat": 4,
 "nbformat_minor": 5
}
